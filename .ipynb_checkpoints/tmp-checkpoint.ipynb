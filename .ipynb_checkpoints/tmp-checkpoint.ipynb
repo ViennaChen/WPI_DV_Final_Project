{
 "cells": [
  {
   "cell_type": "code",
   "execution_count": 42,
   "metadata": {
    "collapsed": false
   },
   "outputs": [],
   "source": [
    "import pandas as pd"
   ]
  },
  {
   "cell_type": "code",
   "execution_count": 43,
   "metadata": {
    "collapsed": false
   },
   "outputs": [],
   "source": [
    "dta = pd.read_excel(\"./Data/2012.xlsx\")"
   ]
  },
  {
   "cell_type": "code",
   "execution_count": 44,
   "metadata": {
    "collapsed": false
   },
   "outputs": [
    {
     "data": {
      "text/html": [
       "<div>\n",
       "<table border=\"1\" class=\"dataframe\">\n",
       "  <thead>\n",
       "    <tr style=\"text-align: right;\">\n",
       "      <th></th>\n",
       "      <th>State</th>\n",
       "      <th>EV_D</th>\n",
       "      <th>EV_R</th>\n",
       "      <th>Total_Vote</th>\n",
       "      <th>D_Percen</th>\n",
       "      <th>R_Percen</th>\n",
       "      <th>Other_Percen</th>\n",
       "      <th>D_Actual</th>\n",
       "      <th>R_Actual</th>\n",
       "      <th>Other_Actual</th>\n",
       "    </tr>\n",
       "  </thead>\n",
       "  <tbody>\n",
       "    <tr>\n",
       "      <th>0</th>\n",
       "      <td>Alabama</td>\n",
       "      <td>0</td>\n",
       "      <td>9</td>\n",
       "      <td>2074338</td>\n",
       "      <td>38.36%</td>\n",
       "      <td>60.55%</td>\n",
       "      <td>1.10%</td>\n",
       "      <td>795696</td>\n",
       "      <td>1255925</td>\n",
       "      <td>22,717</td>\n",
       "    </tr>\n",
       "    <tr>\n",
       "      <th>1</th>\n",
       "      <td>Alaska</td>\n",
       "      <td>0</td>\n",
       "      <td>3</td>\n",
       "      <td>300495</td>\n",
       "      <td>40.81%</td>\n",
       "      <td>54.80%</td>\n",
       "      <td>4.39%</td>\n",
       "      <td>122640</td>\n",
       "      <td>164676</td>\n",
       "      <td>13,179</td>\n",
       "    </tr>\n",
       "    <tr>\n",
       "      <th>2</th>\n",
       "      <td>Arizona</td>\n",
       "      <td>0</td>\n",
       "      <td>11</td>\n",
       "      <td>2306559</td>\n",
       "      <td>44.45%</td>\n",
       "      <td>53.48%</td>\n",
       "      <td>2.07%</td>\n",
       "      <td>1025232</td>\n",
       "      <td>1233654</td>\n",
       "      <td>47,673</td>\n",
       "    </tr>\n",
       "    <tr>\n",
       "      <th>3</th>\n",
       "      <td>Arkansas</td>\n",
       "      <td>0</td>\n",
       "      <td>6</td>\n",
       "      <td>1069468</td>\n",
       "      <td>36.88%</td>\n",
       "      <td>60.57%</td>\n",
       "      <td>2.55%</td>\n",
       "      <td>394409</td>\n",
       "      <td>647744</td>\n",
       "      <td>27,315</td>\n",
       "    </tr>\n",
       "    <tr>\n",
       "      <th>4</th>\n",
       "      <td>California</td>\n",
       "      <td>55</td>\n",
       "      <td>0</td>\n",
       "      <td>13055815</td>\n",
       "      <td>60.16%</td>\n",
       "      <td>37.07%</td>\n",
       "      <td>2.77%</td>\n",
       "      <td>7854285</td>\n",
       "      <td>4839958</td>\n",
       "      <td>361,572</td>\n",
       "    </tr>\n",
       "  </tbody>\n",
       "</table>\n",
       "</div>"
      ],
      "text/plain": [
       "        State  EV_D  EV_R  Total_Vote D_Percen R_Percen Other_Percen  \\\n",
       "0     Alabama     0     9     2074338   38.36%   60.55%        1.10%   \n",
       "1      Alaska     0     3      300495   40.81%   54.80%        4.39%   \n",
       "2     Arizona     0    11     2306559   44.45%   53.48%        2.07%   \n",
       "3    Arkansas     0     6     1069468   36.88%   60.57%        2.55%   \n",
       "4  California    55     0    13055815   60.16%   37.07%        2.77%   \n",
       "\n",
       "   D_Actual  R_Actual Other_Actual  \n",
       "0    795696   1255925       22,717  \n",
       "1    122640    164676       13,179  \n",
       "2   1025232   1233654       47,673  \n",
       "3    394409    647744       27,315  \n",
       "4   7854285   4839958      361,572  "
      ]
     },
     "execution_count": 44,
     "metadata": {},
     "output_type": "execute_result"
    }
   ],
   "source": [
    "dta.head(5)"
   ]
  },
  {
   "cell_type": "code",
   "execution_count": 45,
   "metadata": {
    "collapsed": false
   },
   "outputs": [
    {
     "data": {
      "text/plain": [
       "u'1.10'"
      ]
     },
     "execution_count": 45,
     "metadata": {},
     "output_type": "execute_result"
    }
   ],
   "source": [
    "dta.iloc[0][\"Other_Percen\"][1:-1]"
   ]
  },
  {
   "cell_type": "code",
   "execution_count": 47,
   "metadata": {
    "collapsed": false
   },
   "outputs": [
    {
     "data": {
      "text/plain": [
       "u'22,717'"
      ]
     },
     "execution_count": 47,
     "metadata": {},
     "output_type": "execute_result"
    }
   ],
   "source": [
    "dta.iloc[0][\"Other_Actual\"][1:]"
   ]
  },
  {
   "cell_type": "code",
   "execution_count": 50,
   "metadata": {
    "collapsed": false
   },
   "outputs": [
    {
     "data": {
      "text/plain": [
       "2074338"
      ]
     },
     "execution_count": 50,
     "metadata": {},
     "output_type": "execute_result"
    }
   ],
   "source": [
    "dta.iloc[0][\"Total_Vote\"]"
   ]
  },
  {
   "cell_type": "code",
   "execution_count": null,
   "metadata": {
    "collapsed": true
   },
   "outputs": [],
   "source": []
  }
 ],
 "metadata": {
  "anaconda-cloud": {},
  "kernelspec": {
   "display_name": "Python [py2]",
   "language": "python",
   "name": "Python [py2]"
  },
  "language_info": {
   "codemirror_mode": {
    "name": "ipython",
    "version": 2
   },
   "file_extension": ".py",
   "mimetype": "text/x-python",
   "name": "python",
   "nbconvert_exporter": "python",
   "pygments_lexer": "ipython2",
   "version": "2.7.12"
  }
 },
 "nbformat": 4,
 "nbformat_minor": 0
}
